{
 "cells": [
  {
   "cell_type": "code",
   "execution_count": 1311,
   "id": "d7426c79",
   "metadata": {},
   "outputs": [],
   "source": [
    "import numpy as np\n",
    "import pandas as pd\n",
    "import matplotlib.pyplot as plt\n",
    "import seaborn as sns\n",
    "from scipy import stats\n",
    "\n",
    "from sklearn.model_selection import train_test_split\n",
    "from sklearn.linear_model import LinearRegression, SGDRegressor, Ridge, Lasso\n",
    "from sklearn.metrics import r2_score, mean_squared_error\n",
    "from sklearn.preprocessing import LabelEncoder, MinMaxScaler, StandardScaler\n",
    "\n",
    "import tensorflow as tf\n",
    "from tensorflow import keras\n",
    "import os\n",
    "\n",
    "os.environ[\"CUDA_VISIBLE_DEVICES\"] = \"0\""
   ]
  },
  {
   "cell_type": "code",
   "execution_count": 1312,
   "id": "d5697a48",
   "metadata": {},
   "outputs": [],
   "source": [
    "# 리눅스 한글 설정\n",
    "plt.rc('font', family = 'NanumGothic')"
   ]
  },
  {
   "cell_type": "code",
   "execution_count": 1313,
   "id": "80b3d1f6",
   "metadata": {},
   "outputs": [],
   "source": [
    "file_1 = '한국 lstm 기온데이터.csv'"
   ]
  },
  {
   "cell_type": "code",
   "execution_count": 1314,
   "id": "60d42670",
   "metadata": {},
   "outputs": [],
   "source": [
    "df1 = pd.read_csv(file_1, encoding = 'UTF-8')"
   ]
  },
  {
   "cell_type": "code",
   "execution_count": 1315,
   "id": "ec3a7ac3",
   "metadata": {},
   "outputs": [
    {
     "data": {
      "text/html": [
       "<div>\n",
       "<style scoped>\n",
       "    .dataframe tbody tr th:only-of-type {\n",
       "        vertical-align: middle;\n",
       "    }\n",
       "\n",
       "    .dataframe tbody tr th {\n",
       "        vertical-align: top;\n",
       "    }\n",
       "\n",
       "    .dataframe thead th {\n",
       "        text-align: right;\n",
       "    }\n",
       "</style>\n",
       "<table border=\"1\" class=\"dataframe\">\n",
       "  <thead>\n",
       "    <tr style=\"text-align: right;\">\n",
       "      <th></th>\n",
       "      <th>지점</th>\n",
       "      <th>지점명</th>\n",
       "      <th>일시</th>\n",
       "      <th>평균기온(℃)</th>\n",
       "    </tr>\n",
       "  </thead>\n",
       "  <tbody>\n",
       "    <tr>\n",
       "      <th>0</th>\n",
       "      <td>105</td>\n",
       "      <td>강릉</td>\n",
       "      <td>2013-01-01</td>\n",
       "      <td>-1.9</td>\n",
       "    </tr>\n",
       "    <tr>\n",
       "      <th>1</th>\n",
       "      <td>105</td>\n",
       "      <td>강릉</td>\n",
       "      <td>2013-01-02</td>\n",
       "      <td>-6.0</td>\n",
       "    </tr>\n",
       "    <tr>\n",
       "      <th>2</th>\n",
       "      <td>105</td>\n",
       "      <td>강릉</td>\n",
       "      <td>2013-01-03</td>\n",
       "      <td>-7.5</td>\n",
       "    </tr>\n",
       "    <tr>\n",
       "      <th>3</th>\n",
       "      <td>105</td>\n",
       "      <td>강릉</td>\n",
       "      <td>2013-01-04</td>\n",
       "      <td>-4.9</td>\n",
       "    </tr>\n",
       "    <tr>\n",
       "      <th>4</th>\n",
       "      <td>105</td>\n",
       "      <td>강릉</td>\n",
       "      <td>2013-01-05</td>\n",
       "      <td>-1.7</td>\n",
       "    </tr>\n",
       "  </tbody>\n",
       "</table>\n",
       "</div>"
      ],
      "text/plain": [
       "    지점 지점명          일시  평균기온(℃)\n",
       "0  105  강릉  2013-01-01     -1.9\n",
       "1  105  강릉  2013-01-02     -6.0\n",
       "2  105  강릉  2013-01-03     -7.5\n",
       "3  105  강릉  2013-01-04     -4.9\n",
       "4  105  강릉  2013-01-05     -1.7"
      ]
     },
     "execution_count": 1315,
     "metadata": {},
     "output_type": "execute_result"
    }
   ],
   "source": [
    "df1.head()"
   ]
  },
  {
   "cell_type": "code",
   "execution_count": 1316,
   "id": "7c9a569e",
   "metadata": {},
   "outputs": [
    {
     "data": {
      "text/html": [
       "<div>\n",
       "<style scoped>\n",
       "    .dataframe tbody tr th:only-of-type {\n",
       "        vertical-align: middle;\n",
       "    }\n",
       "\n",
       "    .dataframe tbody tr th {\n",
       "        vertical-align: top;\n",
       "    }\n",
       "\n",
       "    .dataframe thead th {\n",
       "        text-align: right;\n",
       "    }\n",
       "</style>\n",
       "<table border=\"1\" class=\"dataframe\">\n",
       "  <thead>\n",
       "    <tr style=\"text-align: right;\">\n",
       "      <th></th>\n",
       "      <th>평균기온(℃)</th>\n",
       "    </tr>\n",
       "    <tr>\n",
       "      <th>일시</th>\n",
       "      <th></th>\n",
       "    </tr>\n",
       "  </thead>\n",
       "  <tbody>\n",
       "    <tr>\n",
       "      <th>2013-01-01</th>\n",
       "      <td>-0.76250</td>\n",
       "    </tr>\n",
       "    <tr>\n",
       "      <th>2013-01-02</th>\n",
       "      <td>-4.70000</td>\n",
       "    </tr>\n",
       "    <tr>\n",
       "      <th>2013-01-03</th>\n",
       "      <td>-8.09375</td>\n",
       "    </tr>\n",
       "    <tr>\n",
       "      <th>2013-01-04</th>\n",
       "      <td>-6.74375</td>\n",
       "    </tr>\n",
       "    <tr>\n",
       "      <th>2013-01-05</th>\n",
       "      <td>-3.81250</td>\n",
       "    </tr>\n",
       "  </tbody>\n",
       "</table>\n",
       "</div>"
      ],
      "text/plain": [
       "            평균기온(℃)\n",
       "일시                 \n",
       "2013-01-01 -0.76250\n",
       "2013-01-02 -4.70000\n",
       "2013-01-03 -8.09375\n",
       "2013-01-04 -6.74375\n",
       "2013-01-05 -3.81250"
      ]
     },
     "execution_count": 1316,
     "metadata": {},
     "output_type": "execute_result"
    }
   ],
   "source": [
    "df_korea = df1.drop(['지점', '지점명'], axis = 1).groupby(['일시']).mean()\n",
    "df_korea.head()"
   ]
  },
  {
   "cell_type": "code",
   "execution_count": 1317,
   "id": "36a9648c",
   "metadata": {},
   "outputs": [
    {
     "data": {
      "text/html": [
       "<div>\n",
       "<style scoped>\n",
       "    .dataframe tbody tr th:only-of-type {\n",
       "        vertical-align: middle;\n",
       "    }\n",
       "\n",
       "    .dataframe tbody tr th {\n",
       "        vertical-align: top;\n",
       "    }\n",
       "\n",
       "    .dataframe thead th {\n",
       "        text-align: right;\n",
       "    }\n",
       "</style>\n",
       "<table border=\"1\" class=\"dataframe\">\n",
       "  <thead>\n",
       "    <tr style=\"text-align: right;\">\n",
       "      <th></th>\n",
       "      <th>평균기온(℃)</th>\n",
       "    </tr>\n",
       "    <tr>\n",
       "      <th>일시</th>\n",
       "      <th></th>\n",
       "    </tr>\n",
       "  </thead>\n",
       "  <tbody>\n",
       "    <tr>\n",
       "      <th>2023-08-06</th>\n",
       "      <td>29.40625</td>\n",
       "    </tr>\n",
       "    <tr>\n",
       "      <th>2023-08-07</th>\n",
       "      <td>29.28750</td>\n",
       "    </tr>\n",
       "    <tr>\n",
       "      <th>2023-08-08</th>\n",
       "      <td>29.08125</td>\n",
       "    </tr>\n",
       "    <tr>\n",
       "      <th>2023-08-09</th>\n",
       "      <td>26.48125</td>\n",
       "    </tr>\n",
       "    <tr>\n",
       "      <th>2023-08-10</th>\n",
       "      <td>23.74375</td>\n",
       "    </tr>\n",
       "  </tbody>\n",
       "</table>\n",
       "</div>"
      ],
      "text/plain": [
       "             평균기온(℃)\n",
       "일시                  \n",
       "2023-08-06  29.40625\n",
       "2023-08-07  29.28750\n",
       "2023-08-08  29.08125\n",
       "2023-08-09  26.48125\n",
       "2023-08-10  23.74375"
      ]
     },
     "execution_count": 1317,
     "metadata": {},
     "output_type": "execute_result"
    }
   ],
   "source": [
    "df_korea.tail()"
   ]
  },
  {
   "cell_type": "code",
   "execution_count": 1318,
   "id": "79599f1b",
   "metadata": {},
   "outputs": [
    {
     "data": {
      "text/plain": [
       "((array([-3.56938978, -3.32997769, -3.19781246, ...,  3.19781246,\n",
       "          3.32997769,  3.56938978]),\n",
       "  array([-10.50625,  -9.90625,  -9.3625 , ...,  30.73125,  30.75   ,\n",
       "          30.81875])),\n",
       " (9.091209558499642, 14.312004495783857, 0.9809645531634142))"
      ]
     },
     "execution_count": 1318,
     "metadata": {},
     "output_type": "execute_result"
    },
    {
     "name": "stderr",
     "output_type": "stream",
     "text": [
      "/usr/lib/python3/dist-packages/IPython/core/events.py:89: UserWarning: Glyph 8722 (\\N{MINUS SIGN}) missing from current font.\n",
      "  func(*args, **kwargs)\n",
      "/usr/lib/python3/dist-packages/IPython/core/pylabtools.py:151: UserWarning: Glyph 8722 (\\N{MINUS SIGN}) missing from current font.\n",
      "  fig.canvas.print_figure(bytes_io, **kw)\n"
     ]
    },
    {
     "data": {
      "image/png": "[encoded data removed]",
      "text/plain": [
       "<Figure size 1080x432 with 2 Axes>"
      ]
     },
     "metadata": {
      "needs_background": "light"
     },
     "output_type": "display_data"
    }
   ],
   "source": [
    "# 우선 종속변수의 분포를 확인\n",
    "\n",
    "fig, axes = plt.subplots(1,2, figsize = (15,6))\n",
    "\n",
    "sns.histplot(df_korea['평균기온(℃)'], ax =axes[0], kde=True)\n",
    "stats.probplot(df_korea[\"평균기온(℃)\"], dist='norm', fit=True, plot=axes[1])\n",
    "\n",
    "\n",
    "# 오른쪽 파란색 곡선이 빨간색 직선에 비슷해 질수록 정규분포를 따른다 ==> 그다지 정확하지는 않지만, 얼추 따른다고 생각"
   ]
  },
  {
   "cell_type": "markdown",
   "id": "0d44ec6e",
   "metadata": {},
   "source": [
    "## 기온데이터만 가지고 예측 모델 만들기\n",
    "#### 월별에서 일별이 되었을 때, 할 수 있는 것이 무엇이 있을까?\n",
    "#### 1. <span style='background-color:#fff5b1'>1 ~ 6일의 기온으로 다음 7일을 예측하는 모델을 만들자는 생각</span>\n",
    "#### 2. 2022년까지의 데이터를 가지고 2023년 1년을 에측하는 모델을 만들어보자\n",
    "#### 2-1. train data = 2013 ~ 2022, test data = 2023\n",
    "#### 3. 일단 train 및 test 일별데이터가 어떻게 분포하는지 시각화 필요"
   ]
  },
  {
   "cell_type": "code",
   "execution_count": 1319,
   "id": "804797b7",
   "metadata": {},
   "outputs": [
    {
     "data": {
      "text/plain": [
       "(일시\n",
       " 2013-01-01   -0.76250\n",
       " 2013-01-02   -4.70000\n",
       " 2013-01-03   -8.09375\n",
       " 2013-01-04   -6.74375\n",
       " 2013-01-05   -3.81250\n",
       "                ...   \n",
       " 2022-12-27    0.31250\n",
       " 2022-12-28    0.16250\n",
       " 2022-12-29   -0.51250\n",
       " 2022-12-30    0.53125\n",
       " 2022-12-31    1.05625\n",
       " Name: 평균기온(℃), Length: 3652, dtype: float64,\n",
       " 일시\n",
       " 2023-01-01     1.88125\n",
       " 2023-01-02    -0.58750\n",
       " 2023-01-03    -1.09375\n",
       " 2023-01-04     0.63750\n",
       " 2023-01-05     1.57500\n",
       "                 ...   \n",
       " 2023-08-06    29.40625\n",
       " 2023-08-07    29.28750\n",
       " 2023-08-08    29.08125\n",
       " 2023-08-09    26.48125\n",
       " 2023-08-10    23.74375\n",
       " Name: 평균기온(℃), Length: 222, dtype: float64)"
      ]
     },
     "execution_count": 1319,
     "metadata": {},
     "output_type": "execute_result"
    }
   ],
   "source": [
    "# train, test 나누기\n",
    "real_data = df_korea.loc['2023-01-01':, '평균기온(℃)']\n",
    "train_data = df_korea.loc[:'2022-12-31', '평균기온(℃)']\n",
    "train_data, real_data"
   ]
  },
  {
   "cell_type": "code",
   "execution_count": 1320,
   "id": "f17c0520",
   "metadata": {},
   "outputs": [],
   "source": [
    "temp_train = train_data.reset_index()\n",
    "temp_real = real_data.reset_index()"
   ]
  },
  {
   "cell_type": "code",
   "execution_count": 1321,
   "id": "edfd9ea2",
   "metadata": {},
   "outputs": [],
   "source": [
    "temp_train['일시'] = pd.to_datetime(temp_train['일시'])"
   ]
  },
  {
   "cell_type": "code",
   "execution_count": 1322,
   "id": "05ea6574",
   "metadata": {},
   "outputs": [],
   "source": [
    "temp_real['일시'] =  pd.to_datetime(temp_real['일시'])"
   ]
  },
  {
   "cell_type": "code",
   "execution_count": 1323,
   "id": "e449638f",
   "metadata": {},
   "outputs": [
    {
     "data": {
      "text/plain": [
       "Text(0.5, 1.0, 'train data : 대한민국 국내 기온 변화 (2013-01-01 ~ 2022-12-31)')"
      ]
     },
     "execution_count": 1323,
     "metadata": {},
     "output_type": "execute_result"
    },
    {
     "name": "stderr",
     "output_type": "stream",
     "text": [
      "/usr/lib/python3/dist-packages/IPython/core/events.py:89: UserWarning: Glyph 8722 (\\N{MINUS SIGN}) missing from current font.\n",
      "  func(*args, **kwargs)\n",
      "/usr/lib/python3/dist-packages/IPython/core/pylabtools.py:151: UserWarning: Glyph 8722 (\\N{MINUS SIGN}) missing from current font.\n",
      "  fig.canvas.print_figure(bytes_io, **kw)\n"
     ]
    },
    {
     "data": {
      "image/png": "[encoded data removed]",
      "text/plain": [
       "<Figure size 1080x648 with 1 Axes>"
      ]
     },
     "metadata": {
      "needs_background": "light"
     },
     "output_type": "display_data"
    }
   ],
   "source": [
    "fig, axe = plt.subplots(figsize = (15,9))\n",
    "window = 10\n",
    "sns.lineplot(x = temp_train['일시'], y = temp_train['평균기온(℃)'], label = 'train')\n",
    "axe.set_xticks(temp_train['일시'].dt.strftime('%Y-%m').iloc[window::160])\n",
    "axe.set_xticklabels(temp_train['일시'].dt.strftime('%Y-%m').iloc[window::160], rotation = -45, weight='bold')\n",
    "axe.set_title('train data : 대한민국 국내 기온 변화 (2013-01-01 ~ 2022-12-31)', fontsize = 20, weight='bold')"
   ]
  },
  {
   "cell_type": "code",
   "execution_count": 1324,
   "id": "1eabbc20",
   "metadata": {},
   "outputs": [
    {
     "data": {
      "text/plain": [
       "Text(0.5, 1.0, 'test data : 대한민국 국내 기온 변화 (2023-01-01 ~ 2023-08-10)')"
      ]
     },
     "execution_count": 1324,
     "metadata": {},
     "output_type": "execute_result"
    },
    {
     "name": "stderr",
     "output_type": "stream",
     "text": [
      "/usr/lib/python3/dist-packages/IPython/core/events.py:89: UserWarning: Glyph 8722 (\\N{MINUS SIGN}) missing from current font.\n",
      "  func(*args, **kwargs)\n",
      "/usr/lib/python3/dist-packages/IPython/core/pylabtools.py:151: UserWarning: Glyph 8722 (\\N{MINUS SIGN}) missing from current font.\n",
      "  fig.canvas.print_figure(bytes_io, **kw)\n"
     ]
    },
    {
     "data": {
      "image/png": "[encoded data removed]",
      "text/plain": [
       "<Figure size 1080x648 with 1 Axes>"
      ]
     },
     "metadata": {
      "needs_background": "light"
     },
     "output_type": "display_data"
    }
   ],
   "source": [
    "fig, axe = plt.subplots(figsize = (15,9))\n",
    "window = 10\n",
    "sns.lineplot(x = temp_real['일시'], y = temp_real['평균기온(℃)'], label = 'real')\n",
    "axe.set_xticks(temp_real['일시'].dt.strftime('%Y-%m').iloc[window::10])\n",
    "axe.set_xticklabels(temp_real['일시'].dt.strftime('%Y-%m').iloc[window::10], rotation = -45, weight='bold')\n",
    "axe.set_title('test data : 대한민국 국내 기온 변화 (2023-01-01 ~ 2023-08-10)', fontsize = 20, weight='bold')"
   ]
  },
  {
   "cell_type": "code",
   "execution_count": 1325,
   "id": "7638ab3d",
   "metadata": {},
   "outputs": [
    {
     "data": {
      "text/html": [
       "<div>\n",
       "<style scoped>\n",
       "    .dataframe tbody tr th:only-of-type {\n",
       "        vertical-align: middle;\n",
       "    }\n",
       "\n",
       "    .dataframe tbody tr th {\n",
       "        vertical-align: top;\n",
       "    }\n",
       "\n",
       "    .dataframe thead th {\n",
       "        text-align: right;\n",
       "    }\n",
       "</style>\n",
       "<table border=\"1\" class=\"dataframe\">\n",
       "  <thead>\n",
       "    <tr style=\"text-align: right;\">\n",
       "      <th></th>\n",
       "      <th>일시</th>\n",
       "      <th>평균기온(℃)</th>\n",
       "    </tr>\n",
       "  </thead>\n",
       "  <tbody>\n",
       "    <tr>\n",
       "      <th>0</th>\n",
       "      <td>2013-01-01</td>\n",
       "      <td>-0.76250</td>\n",
       "    </tr>\n",
       "    <tr>\n",
       "      <th>1</th>\n",
       "      <td>2013-01-02</td>\n",
       "      <td>-4.70000</td>\n",
       "    </tr>\n",
       "    <tr>\n",
       "      <th>2</th>\n",
       "      <td>2013-01-03</td>\n",
       "      <td>-8.09375</td>\n",
       "    </tr>\n",
       "    <tr>\n",
       "      <th>3</th>\n",
       "      <td>2013-01-04</td>\n",
       "      <td>-6.74375</td>\n",
       "    </tr>\n",
       "    <tr>\n",
       "      <th>4</th>\n",
       "      <td>2013-01-05</td>\n",
       "      <td>-3.81250</td>\n",
       "    </tr>\n",
       "    <tr>\n",
       "      <th>...</th>\n",
       "      <td>...</td>\n",
       "      <td>...</td>\n",
       "    </tr>\n",
       "    <tr>\n",
       "      <th>3647</th>\n",
       "      <td>2022-12-27</td>\n",
       "      <td>0.31250</td>\n",
       "    </tr>\n",
       "    <tr>\n",
       "      <th>3648</th>\n",
       "      <td>2022-12-28</td>\n",
       "      <td>0.16250</td>\n",
       "    </tr>\n",
       "    <tr>\n",
       "      <th>3649</th>\n",
       "      <td>2022-12-29</td>\n",
       "      <td>-0.51250</td>\n",
       "    </tr>\n",
       "    <tr>\n",
       "      <th>3650</th>\n",
       "      <td>2022-12-30</td>\n",
       "      <td>0.53125</td>\n",
       "    </tr>\n",
       "    <tr>\n",
       "      <th>3651</th>\n",
       "      <td>2022-12-31</td>\n",
       "      <td>1.05625</td>\n",
       "    </tr>\n",
       "  </tbody>\n",
       "</table>\n",
       "<p>3652 rows × 2 columns</p>\n",
       "</div>"
      ],
      "text/plain": [
       "             일시  평균기온(℃)\n",
       "0    2013-01-01 -0.76250\n",
       "1    2013-01-02 -4.70000\n",
       "2    2013-01-03 -8.09375\n",
       "3    2013-01-04 -6.74375\n",
       "4    2013-01-05 -3.81250\n",
       "...         ...      ...\n",
       "3647 2022-12-27  0.31250\n",
       "3648 2022-12-28  0.16250\n",
       "3649 2022-12-29 -0.51250\n",
       "3650 2022-12-30  0.53125\n",
       "3651 2022-12-31  1.05625\n",
       "\n",
       "[3652 rows x 2 columns]"
      ]
     },
     "execution_count": 1325,
     "metadata": {},
     "output_type": "execute_result"
    }
   ],
   "source": [
    "temp_train"
   ]
  },
  {
   "cell_type": "code",
   "execution_count": 1326,
   "id": "fb0589d4",
   "metadata": {},
   "outputs": [
    {
     "name": "stdout",
     "output_type": "stream",
     "text": [
      "            0\n",
      "0    -0.76250\n",
      "1    -4.70000\n",
      "2    -8.09375\n",
      "3    -6.74375\n",
      "4    -3.81250\n",
      "...       ...\n",
      "3647  0.31250\n",
      "3648  0.16250\n",
      "3649 -0.51250\n",
      "3650  0.53125\n",
      "3651  1.05625\n",
      "\n",
      "[3652 rows x 1 columns]\n"
     ]
    }
   ],
   "source": [
    "train = list(temp_train['평균기온(℃)'])\n",
    "train = {0 : train}\n",
    "train = pd.DataFrame(train)\n",
    "print(train)"
   ]
  },
  {
   "cell_type": "code",
   "execution_count": 1327,
   "id": "00e733bf",
   "metadata": {},
   "outputs": [],
   "source": [
    "def maketimeSeries(df, n_in = 6):\n",
    "    for i in range(1, n_in+1):\n",
    "        df[i] = df[i-1].shift(1)\n",
    "    return df"
   ]
  },
  {
   "cell_type": "code",
   "execution_count": 1328,
   "id": "7fb108fc",
   "metadata": {},
   "outputs": [
    {
     "data": {
      "text/html": [
       "<div>\n",
       "<style scoped>\n",
       "    .dataframe tbody tr th:only-of-type {\n",
       "        vertical-align: middle;\n",
       "    }\n",
       "\n",
       "    .dataframe tbody tr th {\n",
       "        vertical-align: top;\n",
       "    }\n",
       "\n",
       "    .dataframe thead th {\n",
       "        text-align: right;\n",
       "    }\n",
       "</style>\n",
       "<table border=\"1\" class=\"dataframe\">\n",
       "  <thead>\n",
       "    <tr style=\"text-align: right;\">\n",
       "      <th></th>\n",
       "      <th>0</th>\n",
       "      <th>1</th>\n",
       "      <th>2</th>\n",
       "      <th>3</th>\n",
       "      <th>4</th>\n",
       "      <th>5</th>\n",
       "      <th>6</th>\n",
       "    </tr>\n",
       "  </thead>\n",
       "  <tbody>\n",
       "    <tr>\n",
       "      <th>0</th>\n",
       "      <td>-0.76250</td>\n",
       "      <td>NaN</td>\n",
       "      <td>NaN</td>\n",
       "      <td>NaN</td>\n",
       "      <td>NaN</td>\n",
       "      <td>NaN</td>\n",
       "      <td>NaN</td>\n",
       "    </tr>\n",
       "    <tr>\n",
       "      <th>1</th>\n",
       "      <td>-4.70000</td>\n",
       "      <td>-0.76250</td>\n",
       "      <td>NaN</td>\n",
       "      <td>NaN</td>\n",
       "      <td>NaN</td>\n",
       "      <td>NaN</td>\n",
       "      <td>NaN</td>\n",
       "    </tr>\n",
       "    <tr>\n",
       "      <th>2</th>\n",
       "      <td>-8.09375</td>\n",
       "      <td>-4.70000</td>\n",
       "      <td>-0.76250</td>\n",
       "      <td>NaN</td>\n",
       "      <td>NaN</td>\n",
       "      <td>NaN</td>\n",
       "      <td>NaN</td>\n",
       "    </tr>\n",
       "    <tr>\n",
       "      <th>3</th>\n",
       "      <td>-6.74375</td>\n",
       "      <td>-8.09375</td>\n",
       "      <td>-4.70000</td>\n",
       "      <td>-0.76250</td>\n",
       "      <td>NaN</td>\n",
       "      <td>NaN</td>\n",
       "      <td>NaN</td>\n",
       "    </tr>\n",
       "    <tr>\n",
       "      <th>4</th>\n",
       "      <td>-3.81250</td>\n",
       "      <td>-6.74375</td>\n",
       "      <td>-8.09375</td>\n",
       "      <td>-4.70000</td>\n",
       "      <td>-0.76250</td>\n",
       "      <td>NaN</td>\n",
       "      <td>NaN</td>\n",
       "    </tr>\n",
       "    <tr>\n",
       "      <th>...</th>\n",
       "      <td>...</td>\n",
       "      <td>...</td>\n",
       "      <td>...</td>\n",
       "      <td>...</td>\n",
       "      <td>...</td>\n",
       "      <td>...</td>\n",
       "      <td>...</td>\n",
       "    </tr>\n",
       "    <tr>\n",
       "      <th>3647</th>\n",
       "      <td>0.31250</td>\n",
       "      <td>-0.89375</td>\n",
       "      <td>-1.81875</td>\n",
       "      <td>-5.03125</td>\n",
       "      <td>-6.36250</td>\n",
       "      <td>-3.11875</td>\n",
       "      <td>2.55000</td>\n",
       "    </tr>\n",
       "    <tr>\n",
       "      <th>3648</th>\n",
       "      <td>0.16250</td>\n",
       "      <td>0.31250</td>\n",
       "      <td>-0.89375</td>\n",
       "      <td>-1.81875</td>\n",
       "      <td>-5.03125</td>\n",
       "      <td>-6.36250</td>\n",
       "      <td>-3.11875</td>\n",
       "    </tr>\n",
       "    <tr>\n",
       "      <th>3649</th>\n",
       "      <td>-0.51250</td>\n",
       "      <td>0.16250</td>\n",
       "      <td>0.31250</td>\n",
       "      <td>-0.89375</td>\n",
       "      <td>-1.81875</td>\n",
       "      <td>-5.03125</td>\n",
       "      <td>-6.36250</td>\n",
       "    </tr>\n",
       "    <tr>\n",
       "      <th>3650</th>\n",
       "      <td>0.53125</td>\n",
       "      <td>-0.51250</td>\n",
       "      <td>0.16250</td>\n",
       "      <td>0.31250</td>\n",
       "      <td>-0.89375</td>\n",
       "      <td>-1.81875</td>\n",
       "      <td>-5.03125</td>\n",
       "    </tr>\n",
       "    <tr>\n",
       "      <th>3651</th>\n",
       "      <td>1.05625</td>\n",
       "      <td>0.53125</td>\n",
       "      <td>-0.51250</td>\n",
       "      <td>0.16250</td>\n",
       "      <td>0.31250</td>\n",
       "      <td>-0.89375</td>\n",
       "      <td>-1.81875</td>\n",
       "    </tr>\n",
       "  </tbody>\n",
       "</table>\n",
       "<p>3652 rows × 7 columns</p>\n",
       "</div>"
      ],
      "text/plain": [
       "            0        1        2        3        4        5        6\n",
       "0    -0.76250      NaN      NaN      NaN      NaN      NaN      NaN\n",
       "1    -4.70000 -0.76250      NaN      NaN      NaN      NaN      NaN\n",
       "2    -8.09375 -4.70000 -0.76250      NaN      NaN      NaN      NaN\n",
       "3    -6.74375 -8.09375 -4.70000 -0.76250      NaN      NaN      NaN\n",
       "4    -3.81250 -6.74375 -8.09375 -4.70000 -0.76250      NaN      NaN\n",
       "...       ...      ...      ...      ...      ...      ...      ...\n",
       "3647  0.31250 -0.89375 -1.81875 -5.03125 -6.36250 -3.11875  2.55000\n",
       "3648  0.16250  0.31250 -0.89375 -1.81875 -5.03125 -6.36250 -3.11875\n",
       "3649 -0.51250  0.16250  0.31250 -0.89375 -1.81875 -5.03125 -6.36250\n",
       "3650  0.53125 -0.51250  0.16250  0.31250 -0.89375 -1.81875 -5.03125\n",
       "3651  1.05625  0.53125 -0.51250  0.16250  0.31250 -0.89375 -1.81875\n",
       "\n",
       "[3652 rows x 7 columns]"
      ]
     },
     "execution_count": 1328,
     "metadata": {},
     "output_type": "execute_result"
    }
   ],
   "source": [
    "train = maketimeSeries(train, 6)\n",
    "train"
   ]
  },
  {
   "cell_type": "code",
   "execution_count": 1329,
   "id": "5a990f36",
   "metadata": {},
   "outputs": [
    {
     "data": {
      "text/html": [
       "<div>\n",
       "<style scoped>\n",
       "    .dataframe tbody tr th:only-of-type {\n",
       "        vertical-align: middle;\n",
       "    }\n",
       "\n",
       "    .dataframe tbody tr th {\n",
       "        vertical-align: top;\n",
       "    }\n",
       "\n",
       "    .dataframe thead th {\n",
       "        text-align: right;\n",
       "    }\n",
       "</style>\n",
       "<table border=\"1\" class=\"dataframe\">\n",
       "  <thead>\n",
       "    <tr style=\"text-align: right;\">\n",
       "      <th></th>\n",
       "      <th>0</th>\n",
       "      <th>1</th>\n",
       "      <th>2</th>\n",
       "      <th>3</th>\n",
       "      <th>4</th>\n",
       "      <th>5</th>\n",
       "      <th>6</th>\n",
       "    </tr>\n",
       "  </thead>\n",
       "  <tbody>\n",
       "    <tr>\n",
       "      <th>0</th>\n",
       "      <td>-2.00625</td>\n",
       "      <td>-2.32500</td>\n",
       "      <td>-3.81250</td>\n",
       "      <td>-6.74375</td>\n",
       "      <td>-8.09375</td>\n",
       "      <td>-4.70000</td>\n",
       "      <td>-0.76250</td>\n",
       "    </tr>\n",
       "    <tr>\n",
       "      <th>1</th>\n",
       "      <td>-1.22500</td>\n",
       "      <td>-2.00625</td>\n",
       "      <td>-2.32500</td>\n",
       "      <td>-3.81250</td>\n",
       "      <td>-6.74375</td>\n",
       "      <td>-8.09375</td>\n",
       "      <td>-4.70000</td>\n",
       "    </tr>\n",
       "    <tr>\n",
       "      <th>2</th>\n",
       "      <td>-4.01875</td>\n",
       "      <td>-1.22500</td>\n",
       "      <td>-2.00625</td>\n",
       "      <td>-2.32500</td>\n",
       "      <td>-3.81250</td>\n",
       "      <td>-6.74375</td>\n",
       "      <td>-8.09375</td>\n",
       "    </tr>\n",
       "    <tr>\n",
       "      <th>3</th>\n",
       "      <td>-4.78125</td>\n",
       "      <td>-4.01875</td>\n",
       "      <td>-1.22500</td>\n",
       "      <td>-2.00625</td>\n",
       "      <td>-2.32500</td>\n",
       "      <td>-3.81250</td>\n",
       "      <td>-6.74375</td>\n",
       "    </tr>\n",
       "    <tr>\n",
       "      <th>4</th>\n",
       "      <td>-1.95625</td>\n",
       "      <td>-4.78125</td>\n",
       "      <td>-4.01875</td>\n",
       "      <td>-1.22500</td>\n",
       "      <td>-2.00625</td>\n",
       "      <td>-2.32500</td>\n",
       "      <td>-3.81250</td>\n",
       "    </tr>\n",
       "    <tr>\n",
       "      <th>...</th>\n",
       "      <td>...</td>\n",
       "      <td>...</td>\n",
       "      <td>...</td>\n",
       "      <td>...</td>\n",
       "      <td>...</td>\n",
       "      <td>...</td>\n",
       "      <td>...</td>\n",
       "    </tr>\n",
       "    <tr>\n",
       "      <th>3641</th>\n",
       "      <td>0.31250</td>\n",
       "      <td>-0.89375</td>\n",
       "      <td>-1.81875</td>\n",
       "      <td>-5.03125</td>\n",
       "      <td>-6.36250</td>\n",
       "      <td>-3.11875</td>\n",
       "      <td>2.55000</td>\n",
       "    </tr>\n",
       "    <tr>\n",
       "      <th>3642</th>\n",
       "      <td>0.16250</td>\n",
       "      <td>0.31250</td>\n",
       "      <td>-0.89375</td>\n",
       "      <td>-1.81875</td>\n",
       "      <td>-5.03125</td>\n",
       "      <td>-6.36250</td>\n",
       "      <td>-3.11875</td>\n",
       "    </tr>\n",
       "    <tr>\n",
       "      <th>3643</th>\n",
       "      <td>-0.51250</td>\n",
       "      <td>0.16250</td>\n",
       "      <td>0.31250</td>\n",
       "      <td>-0.89375</td>\n",
       "      <td>-1.81875</td>\n",
       "      <td>-5.03125</td>\n",
       "      <td>-6.36250</td>\n",
       "    </tr>\n",
       "    <tr>\n",
       "      <th>3644</th>\n",
       "      <td>0.53125</td>\n",
       "      <td>-0.51250</td>\n",
       "      <td>0.16250</td>\n",
       "      <td>0.31250</td>\n",
       "      <td>-0.89375</td>\n",
       "      <td>-1.81875</td>\n",
       "      <td>-5.03125</td>\n",
       "    </tr>\n",
       "    <tr>\n",
       "      <th>3645</th>\n",
       "      <td>1.05625</td>\n",
       "      <td>0.53125</td>\n",
       "      <td>-0.51250</td>\n",
       "      <td>0.16250</td>\n",
       "      <td>0.31250</td>\n",
       "      <td>-0.89375</td>\n",
       "      <td>-1.81875</td>\n",
       "    </tr>\n",
       "  </tbody>\n",
       "</table>\n",
       "<p>3646 rows × 7 columns</p>\n",
       "</div>"
      ],
      "text/plain": [
       "            0        1        2        3        4        5        6\n",
       "0    -2.00625 -2.32500 -3.81250 -6.74375 -8.09375 -4.70000 -0.76250\n",
       "1    -1.22500 -2.00625 -2.32500 -3.81250 -6.74375 -8.09375 -4.70000\n",
       "2    -4.01875 -1.22500 -2.00625 -2.32500 -3.81250 -6.74375 -8.09375\n",
       "3    -4.78125 -4.01875 -1.22500 -2.00625 -2.32500 -3.81250 -6.74375\n",
       "4    -1.95625 -4.78125 -4.01875 -1.22500 -2.00625 -2.32500 -3.81250\n",
       "...       ...      ...      ...      ...      ...      ...      ...\n",
       "3641  0.31250 -0.89375 -1.81875 -5.03125 -6.36250 -3.11875  2.55000\n",
       "3642  0.16250  0.31250 -0.89375 -1.81875 -5.03125 -6.36250 -3.11875\n",
       "3643 -0.51250  0.16250  0.31250 -0.89375 -1.81875 -5.03125 -6.36250\n",
       "3644  0.53125 -0.51250  0.16250  0.31250 -0.89375 -1.81875 -5.03125\n",
       "3645  1.05625  0.53125 -0.51250  0.16250  0.31250 -0.89375 -1.81875\n",
       "\n",
       "[3646 rows x 7 columns]"
      ]
     },
     "execution_count": 1329,
     "metadata": {},
     "output_type": "execute_result"
    }
   ],
   "source": [
    "# train의 결측 행 제거\n",
    "train = train.dropna()\n",
    "train = train.reset_index(drop = True)\n",
    "train"
   ]
  },
  {
   "cell_type": "code",
   "execution_count": 1330,
   "id": "0234c35f",
   "metadata": {},
   "outputs": [],
   "source": [
    "X_train = train.iloc[:, 1:]\n",
    "y_train = train.iloc[:, 0]"
   ]
  },
  {
   "cell_type": "code",
   "execution_count": 1331,
   "id": "f83d7367",
   "metadata": {},
   "outputs": [
    {
     "name": "stdout",
     "output_type": "stream",
     "text": [
      "(3646, 6) (3646,)\n"
     ]
    }
   ],
   "source": [
    "print(X_train.shape, y_train.shape)"
   ]
  },
  {
   "cell_type": "markdown",
   "id": "e966af4f",
   "metadata": {},
   "source": [
    "X_train = np.array(X_train)\n",
    "X_train = X_train.reshape(X_train.shape[0], X_train.shape[1], 1)\n",
    "y_train = np.array(y_train)\n",
    "y_train = y_train.reshape(y_train.shape[0], 1)"
   ]
  },
  {
   "cell_type": "code",
   "execution_count": 1332,
   "id": "ca13fa62",
   "metadata": {},
   "outputs": [
    {
     "name": "stdout",
     "output_type": "stream",
     "text": [
      "Model: \"sequential_59\"\n",
      "_________________________________________________________________\n",
      " Layer (type)                Output Shape              Param #   \n",
      "=================================================================\n",
      " lstm_61 (LSTM)              (None, 32)                4352      \n",
      "                                                                 \n",
      " dense_97 (Dense)            (None, 1)                 33        \n",
      "                                                                 \n",
      "=================================================================\n",
      "Total params: 4,385\n",
      "Trainable params: 4,385\n",
      "Non-trainable params: 0\n",
      "_________________________________________________________________\n"
     ]
    }
   ],
   "source": [
    "m_lstm = keras.Sequential([\n",
    "    keras.layers.LSTM(32, input_shape=(X_train.shape[1], 1), activation='relu'),\n",
    "    keras.layers.Dense(1)\n",
    "])\n",
    "\n",
    "m_lstm.summary()"
   ]
  },
  {
   "cell_type": "code",
   "execution_count": 1289,
   "id": "21d48798",
   "metadata": {},
   "outputs": [],
   "source": [
    "m_lstm.compile(optimizer = tf.optimizers.RMSprop(learning_rate = 0.001),\n",
    "             loss = keras.losses.MeanSquaredError(),\n",
    "             metrics = ['mae'])"
   ]
  },
  {
   "cell_type": "code",
   "execution_count": 1290,
   "id": "8037e569",
   "metadata": {
    "scrolled": true
   },
   "outputs": [
    {
     "name": "stdout",
     "output_type": "stream",
     "text": [
      "Epoch 1/100\n",
      "114/114 [==============================] - 1s 2ms/step - loss: 35.6391 - mae: 3.4414\n",
      "Epoch 2/100\n",
      "114/114 [==============================] - 0s 2ms/step - loss: 6.2260 - mae: 1.8991\n",
      "Epoch 3/100\n",
      "114/114 [==============================] - 0s 2ms/step - loss: 5.8817 - mae: 1.8549\n",
      "Epoch 4/100\n",
      "114/114 [==============================] - 0s 2ms/step - loss: 5.4109 - mae: 1.7586\n",
      "Epoch 5/100\n",
      "114/114 [==============================] - 0s 2ms/step - loss: 5.1772 - mae: 1.7282\n",
      "Epoch 6/100\n",
      "114/114 [==============================] - 0s 2ms/step - loss: 4.9734 - mae: 1.6947\n",
      "Epoch 7/100\n",
      "114/114 [==============================] - 0s 2ms/step - loss: 4.7728 - mae: 1.6521\n",
      "Epoch 8/100\n",
      "114/114 [==============================] - 0s 2ms/step - loss: 4.5403 - mae: 1.6026\n",
      "Epoch 9/100\n",
      "114/114 [==============================] - 0s 2ms/step - loss: 4.3628 - mae: 1.5683\n",
      "Epoch 10/100\n",
      "114/114 [==============================] - 0s 2ms/step - loss: 4.3513 - mae: 1.5626\n",
      "Epoch 11/100\n",
      "114/114 [==============================] - 0s 2ms/step - loss: 4.2003 - mae: 1.5299\n",
      "Epoch 12/100\n",
      "114/114 [==============================] - 0s 2ms/step - loss: 4.2008 - mae: 1.5369\n",
      "Epoch 13/100\n",
      "114/114 [==============================] - 0s 2ms/step - loss: 4.1266 - mae: 1.5221\n",
      "Epoch 14/100\n",
      "114/114 [==============================] - 0s 2ms/step - loss: 3.9922 - mae: 1.4933\n",
      "Epoch 15/100\n",
      "114/114 [==============================] - 0s 2ms/step - loss: 4.0091 - mae: 1.5043\n",
      "Epoch 16/100\n",
      "114/114 [==============================] - 0s 2ms/step - loss: 3.9530 - mae: 1.4719\n",
      "Epoch 17/100\n",
      "114/114 [==============================] - 0s 2ms/step - loss: 3.8767 - mae: 1.4684\n",
      "Epoch 18/100\n",
      "114/114 [==============================] - 0s 2ms/step - loss: 3.8450 - mae: 1.4563\n",
      "Epoch 19/100\n",
      "114/114 [==============================] - 0s 2ms/step - loss: 3.7962 - mae: 1.4524\n",
      "Epoch 20/100\n",
      "114/114 [==============================] - 0s 2ms/step - loss: 3.7568 - mae: 1.4471\n",
      "Epoch 21/100\n",
      "114/114 [==============================] - 0s 2ms/step - loss: 3.7745 - mae: 1.4477\n",
      "Epoch 22/100\n",
      "114/114 [==============================] - 0s 2ms/step - loss: 3.6455 - mae: 1.4138\n",
      "Epoch 23/100\n",
      "114/114 [==============================] - 0s 2ms/step - loss: 3.6447 - mae: 1.4170\n",
      "Epoch 24/100\n",
      "114/114 [==============================] - 0s 2ms/step - loss: 3.6453 - mae: 1.4122\n",
      "Epoch 25/100\n",
      "114/114 [==============================] - 0s 2ms/step - loss: 3.6376 - mae: 1.4239\n",
      "Epoch 26/100\n",
      "114/114 [==============================] - 0s 2ms/step - loss: 3.6009 - mae: 1.3965\n",
      "Epoch 27/100\n",
      "114/114 [==============================] - 0s 2ms/step - loss: 3.5622 - mae: 1.4087\n",
      "Epoch 28/100\n",
      "114/114 [==============================] - 0s 2ms/step - loss: 3.5518 - mae: 1.3968\n",
      "Epoch 29/100\n",
      "114/114 [==============================] - 0s 2ms/step - loss: 3.5158 - mae: 1.3886\n",
      "Epoch 30/100\n",
      "114/114 [==============================] - 0s 2ms/step - loss: 3.4680 - mae: 1.3737\n",
      "Epoch 31/100\n",
      "114/114 [==============================] - 0s 2ms/step - loss: 3.4934 - mae: 1.3878\n",
      "Epoch 32/100\n",
      "114/114 [==============================] - 0s 2ms/step - loss: 3.4604 - mae: 1.3763\n",
      "Epoch 33/100\n",
      "114/114 [==============================] - 0s 3ms/step - loss: 3.4466 - mae: 1.3739\n",
      "Epoch 34/100\n",
      "114/114 [==============================] - 0s 2ms/step - loss: 3.4431 - mae: 1.3683\n",
      "Epoch 35/100\n",
      "114/114 [==============================] - 0s 3ms/step - loss: 3.4508 - mae: 1.3741\n",
      "Epoch 36/100\n",
      "114/114 [==============================] - 0s 2ms/step - loss: 3.4427 - mae: 1.3781\n",
      "Epoch 37/100\n",
      "114/114 [==============================] - 0s 2ms/step - loss: 3.3995 - mae: 1.3675\n",
      "Epoch 38/100\n",
      "114/114 [==============================] - 0s 2ms/step - loss: 3.4121 - mae: 1.3683\n",
      "Epoch 39/100\n",
      "114/114 [==============================] - 0s 2ms/step - loss: 3.3776 - mae: 1.3597\n",
      "Epoch 40/100\n",
      "114/114 [==============================] - 0s 2ms/step - loss: 3.3804 - mae: 1.3592\n",
      "Epoch 41/100\n",
      "114/114 [==============================] - 0s 2ms/step - loss: 3.3666 - mae: 1.3518\n",
      "Epoch 42/100\n",
      "114/114 [==============================] - 0s 2ms/step - loss: 3.3865 - mae: 1.3679\n",
      "Epoch 43/100\n",
      "114/114 [==============================] - 0s 2ms/step - loss: 3.3868 - mae: 1.3598\n",
      "Epoch 44/100\n",
      "114/114 [==============================] - 0s 2ms/step - loss: 3.3450 - mae: 1.3514\n",
      "Epoch 45/100\n",
      "114/114 [==============================] - 0s 2ms/step - loss: 3.3498 - mae: 1.3482\n",
      "Epoch 46/100\n",
      "114/114 [==============================] - 0s 2ms/step - loss: 3.3339 - mae: 1.3541\n",
      "Epoch 47/100\n",
      "114/114 [==============================] - 0s 2ms/step - loss: 3.3472 - mae: 1.3536\n",
      "Epoch 48/100\n",
      "114/114 [==============================] - 0s 2ms/step - loss: 3.3401 - mae: 1.3501\n",
      "Epoch 49/100\n",
      "114/114 [==============================] - 0s 2ms/step - loss: 3.3168 - mae: 1.3465\n",
      "Epoch 50/100\n",
      "114/114 [==============================] - 0s 2ms/step - loss: 3.3238 - mae: 1.3420\n",
      "Epoch 51/100\n",
      "114/114 [==============================] - 0s 2ms/step - loss: 3.3106 - mae: 1.3448\n",
      "Epoch 52/100\n",
      "114/114 [==============================] - 0s 2ms/step - loss: 3.3169 - mae: 1.3429\n",
      "Epoch 53/100\n",
      "114/114 [==============================] - 0s 2ms/step - loss: 3.2700 - mae: 1.3371\n",
      "Epoch 54/100\n",
      "114/114 [==============================] - 0s 2ms/step - loss: 3.2829 - mae: 1.3351\n",
      "Epoch 55/100\n",
      "114/114 [==============================] - 0s 2ms/step - loss: 3.2737 - mae: 1.3318\n",
      "Epoch 56/100\n",
      "114/114 [==============================] - 0s 2ms/step - loss: 3.3048 - mae: 1.3499\n",
      "Epoch 57/100\n",
      "114/114 [==============================] - 0s 2ms/step - loss: 3.3030 - mae: 1.3422\n",
      "Epoch 58/100\n",
      "114/114 [==============================] - 0s 2ms/step - loss: 3.2799 - mae: 1.3392\n",
      "Epoch 59/100\n",
      "114/114 [==============================] - 0s 2ms/step - loss: 3.2829 - mae: 1.3443\n",
      "Epoch 60/100\n",
      "114/114 [==============================] - 0s 2ms/step - loss: 3.2893 - mae: 1.3343\n",
      "Epoch 61/100\n",
      "114/114 [==============================] - 0s 2ms/step - loss: 3.2870 - mae: 1.3406\n",
      "Epoch 62/100\n",
      "114/114 [==============================] - 0s 2ms/step - loss: 3.2289 - mae: 1.3197\n",
      "Epoch 63/100\n",
      "114/114 [==============================] - 0s 2ms/step - loss: 3.2409 - mae: 1.3254\n",
      "Epoch 64/100\n",
      "114/114 [==============================] - 0s 2ms/step - loss: 3.2478 - mae: 1.3301\n",
      "Epoch 65/100\n",
      "114/114 [==============================] - 0s 2ms/step - loss: 3.2421 - mae: 1.3299\n",
      "Epoch 66/100\n",
      "114/114 [==============================] - 0s 2ms/step - loss: 3.2515 - mae: 1.3315\n",
      "Epoch 67/100\n",
      "114/114 [==============================] - 0s 2ms/step - loss: 3.2558 - mae: 1.3286\n",
      "Epoch 68/100\n",
      "114/114 [==============================] - 0s 2ms/step - loss: 3.2373 - mae: 1.3284\n",
      "Epoch 69/100\n",
      "114/114 [==============================] - 0s 2ms/step - loss: 3.2177 - mae: 1.3218\n",
      "Epoch 70/100\n",
      "114/114 [==============================] - 0s 2ms/step - loss: 3.1816 - mae: 1.3132\n",
      "Epoch 71/100\n",
      "114/114 [==============================] - 0s 2ms/step - loss: 3.2085 - mae: 1.3225\n",
      "Epoch 72/100\n",
      "114/114 [==============================] - 0s 3ms/step - loss: 3.1950 - mae: 1.3182\n",
      "Epoch 73/100\n",
      "114/114 [==============================] - 0s 3ms/step - loss: 3.2242 - mae: 1.3248\n",
      "Epoch 74/100\n",
      "114/114 [==============================] - 0s 2ms/step - loss: 3.2079 - mae: 1.3223\n",
      "Epoch 75/100\n",
      "114/114 [==============================] - 0s 2ms/step - loss: 3.2167 - mae: 1.3246\n",
      "Epoch 76/100\n",
      "114/114 [==============================] - 0s 3ms/step - loss: 3.2190 - mae: 1.3297\n",
      "Epoch 77/100\n",
      "114/114 [==============================] - 0s 3ms/step - loss: 3.2094 - mae: 1.3203\n",
      "Epoch 78/100\n",
      "114/114 [==============================] - 0s 2ms/step - loss: 3.1879 - mae: 1.3202\n",
      "Epoch 79/100\n",
      "114/114 [==============================] - 0s 2ms/step - loss: 3.1797 - mae: 1.3136\n",
      "Epoch 80/100\n",
      "114/114 [==============================] - 0s 2ms/step - loss: 3.2015 - mae: 1.3177\n",
      "Epoch 81/100\n",
      "114/114 [==============================] - 0s 2ms/step - loss: 3.1899 - mae: 1.3224\n",
      "Epoch 82/100\n",
      "114/114 [==============================] - 0s 2ms/step - loss: 3.2065 - mae: 1.3162\n",
      "Epoch 83/100\n",
      "114/114 [==============================] - 0s 2ms/step - loss: 3.1717 - mae: 1.3172\n",
      "Epoch 84/100\n",
      "114/114 [==============================] - 0s 2ms/step - loss: 3.1728 - mae: 1.3171\n",
      "Epoch 85/100\n"
     ]
    },
    {
     "name": "stdout",
     "output_type": "stream",
     "text": [
      "114/114 [==============================] - 0s 2ms/step - loss: 3.1550 - mae: 1.3087\n",
      "Epoch 86/100\n",
      "114/114 [==============================] - 0s 2ms/step - loss: 3.1596 - mae: 1.3142\n",
      "Epoch 87/100\n",
      "114/114 [==============================] - 0s 2ms/step - loss: 3.1610 - mae: 1.3144\n",
      "Epoch 88/100\n",
      "114/114 [==============================] - 0s 2ms/step - loss: 3.1489 - mae: 1.3130\n",
      "Epoch 89/100\n",
      "114/114 [==============================] - 0s 2ms/step - loss: 3.1388 - mae: 1.3059\n",
      "Epoch 90/100\n",
      "114/114 [==============================] - 0s 2ms/step - loss: 3.1631 - mae: 1.3167\n",
      "Epoch 91/100\n",
      "114/114 [==============================] - 0s 2ms/step - loss: 3.1666 - mae: 1.3114\n",
      "Epoch 92/100\n",
      "114/114 [==============================] - 0s 2ms/step - loss: 3.1415 - mae: 1.3033\n",
      "Epoch 93/100\n",
      "114/114 [==============================] - 0s 2ms/step - loss: 3.1393 - mae: 1.3068\n",
      "Epoch 94/100\n",
      "114/114 [==============================] - 0s 2ms/step - loss: 3.1446 - mae: 1.3093\n",
      "Epoch 95/100\n",
      "114/114 [==============================] - 0s 2ms/step - loss: 3.1419 - mae: 1.3030\n",
      "Epoch 96/100\n",
      "114/114 [==============================] - 0s 2ms/step - loss: 3.1340 - mae: 1.3039\n",
      "Epoch 97/100\n",
      "114/114 [==============================] - 0s 2ms/step - loss: 3.1367 - mae: 1.3123\n",
      "Epoch 98/100\n",
      "114/114 [==============================] - 0s 2ms/step - loss: 3.1597 - mae: 1.3113\n",
      "Epoch 99/100\n",
      "114/114 [==============================] - 0s 2ms/step - loss: 3.1293 - mae: 1.3057\n",
      "Epoch 100/100\n",
      "114/114 [==============================] - 0s 2ms/step - loss: 3.1297 - mae: 1.3038\n"
     ]
    }
   ],
   "source": [
    "h = m_lstm.fit(X_train, y_train, epochs = 100)"
   ]
  },
  {
   "cell_type": "code",
   "execution_count": 1291,
   "id": "5ac880e0",
   "metadata": {},
   "outputs": [],
   "source": [
    "m_lstm.save('m_lstm.h5')"
   ]
  },
  {
   "cell_type": "code",
   "execution_count": 1292,
   "id": "7f7b6336",
   "metadata": {},
   "outputs": [
    {
     "name": "stdout",
     "output_type": "stream",
     "text": [
      "Model: \"sequential_57\"\n",
      "_________________________________________________________________\n",
      " Layer (type)                Output Shape              Param #   \n",
      "=================================================================\n",
      " lstm_59 (LSTM)              (None, 32)                4352      \n",
      "                                                                 \n",
      " dense_95 (Dense)            (None, 1)                 33        \n",
      "                                                                 \n",
      "=================================================================\n",
      "Total params: 4,385\n",
      "Trainable params: 4,385\n",
      "Non-trainable params: 0\n",
      "_________________________________________________________________\n"
     ]
    }
   ],
   "source": [
    "m_lstm_adam = keras.Sequential([\n",
    "    keras.layers.LSTM(32, input_shape=(X_train.shape[1], 1), activation='relu'),\n",
    "    keras.layers.Dense(1)\n",
    "])\n",
    "\n",
    "m_lstm.summary()"
   ]
  },
  {
   "cell_type": "code",
   "execution_count": 1293,
   "id": "2af398bc",
   "metadata": {},
   "outputs": [],
   "source": [
    "m_lstm_adam.compile(optimizer = tf.optimizers.Adam(learning_rate = 0.001),\n",
    "             loss = keras.losses.MeanSquaredError(),\n",
    "             metrics = ['mae'])"
   ]
  },
  {
   "cell_type": "code",
   "execution_count": 1294,
   "id": "10997a05",
   "metadata": {},
   "outputs": [
    {
     "name": "stdout",
     "output_type": "stream",
     "text": [
      "Epoch 1/100\n",
      "114/114 [==============================] - 1s 2ms/step - loss: 37.1600 - mae: 3.9206\n",
      "Epoch 2/100\n",
      "114/114 [==============================] - 0s 2ms/step - loss: 5.9295 - mae: 1.7870\n",
      "Epoch 3/100\n",
      "114/114 [==============================] - 0s 2ms/step - loss: 5.2009 - mae: 1.6836\n",
      "Epoch 4/100\n",
      "114/114 [==============================] - 0s 2ms/step - loss: 4.7500 - mae: 1.5995\n",
      "Epoch 5/100\n",
      "114/114 [==============================] - 0s 2ms/step - loss: 4.4907 - mae: 1.5737\n",
      "Epoch 6/100\n",
      "114/114 [==============================] - 0s 2ms/step - loss: 4.1833 - mae: 1.5006\n",
      "Epoch 7/100\n",
      "114/114 [==============================] - 0s 2ms/step - loss: 4.0672 - mae: 1.4768\n",
      "Epoch 8/100\n",
      "114/114 [==============================] - 0s 2ms/step - loss: 3.9080 - mae: 1.4506\n",
      "Epoch 9/100\n",
      "114/114 [==============================] - 0s 2ms/step - loss: 3.9170 - mae: 1.4701\n",
      "Epoch 10/100\n",
      "114/114 [==============================] - 0s 2ms/step - loss: 3.7499 - mae: 1.4310\n",
      "Epoch 11/100\n",
      "114/114 [==============================] - 0s 2ms/step - loss: 3.6976 - mae: 1.4133\n",
      "Epoch 12/100\n",
      "114/114 [==============================] - 0s 2ms/step - loss: 3.6160 - mae: 1.4008\n",
      "Epoch 13/100\n",
      "114/114 [==============================] - 0s 2ms/step - loss: 3.5767 - mae: 1.3898\n",
      "Epoch 14/100\n",
      "114/114 [==============================] - 0s 2ms/step - loss: 3.6032 - mae: 1.4055\n",
      "Epoch 15/100\n",
      "114/114 [==============================] - 0s 2ms/step - loss: 3.6780 - mae: 1.4346\n",
      "Epoch 16/100\n",
      "114/114 [==============================] - 0s 2ms/step - loss: 3.4972 - mae: 1.3756\n",
      "Epoch 17/100\n",
      "114/114 [==============================] - 0s 2ms/step - loss: 3.4009 - mae: 1.3567\n",
      "Epoch 18/100\n",
      "114/114 [==============================] - 0s 2ms/step - loss: 3.4987 - mae: 1.3779\n",
      "Epoch 19/100\n",
      "114/114 [==============================] - 0s 2ms/step - loss: 3.4027 - mae: 1.3559\n",
      "Epoch 20/100\n",
      "114/114 [==============================] - 0s 2ms/step - loss: 3.5023 - mae: 1.3918\n",
      "Epoch 21/100\n",
      "114/114 [==============================] - 0s 2ms/step - loss: 3.3597 - mae: 1.3426\n",
      "Epoch 22/100\n",
      "114/114 [==============================] - 0s 2ms/step - loss: 3.4728 - mae: 1.3867\n",
      "Epoch 23/100\n",
      "114/114 [==============================] - 0s 2ms/step - loss: 3.4009 - mae: 1.3601\n",
      "Epoch 24/100\n",
      "114/114 [==============================] - 0s 2ms/step - loss: 3.3873 - mae: 1.3629\n",
      "Epoch 25/100\n",
      "114/114 [==============================] - 0s 2ms/step - loss: 3.3226 - mae: 1.3447\n",
      "Epoch 26/100\n",
      "114/114 [==============================] - 0s 2ms/step - loss: 3.3238 - mae: 1.3436\n",
      "Epoch 27/100\n",
      "114/114 [==============================] - 0s 2ms/step - loss: 3.4059 - mae: 1.3666\n",
      "Epoch 28/100\n",
      "114/114 [==============================] - 0s 2ms/step - loss: 3.2906 - mae: 1.3312\n",
      "Epoch 29/100\n",
      "114/114 [==============================] - 0s 2ms/step - loss: 3.2973 - mae: 1.3301\n",
      "Epoch 30/100\n",
      "114/114 [==============================] - 0s 2ms/step - loss: 3.3183 - mae: 1.3390\n",
      "Epoch 31/100\n",
      "114/114 [==============================] - 0s 2ms/step - loss: 3.2818 - mae: 1.3294\n",
      "Epoch 32/100\n",
      "114/114 [==============================] - 0s 2ms/step - loss: 3.2862 - mae: 1.3420\n",
      "Epoch 33/100\n",
      "114/114 [==============================] - 0s 2ms/step - loss: 3.3030 - mae: 1.3434\n",
      "Epoch 34/100\n",
      "114/114 [==============================] - 0s 2ms/step - loss: 3.3984 - mae: 1.3748\n",
      "Epoch 35/100\n",
      "114/114 [==============================] - 0s 2ms/step - loss: 3.2929 - mae: 1.3336\n",
      "Epoch 36/100\n",
      "114/114 [==============================] - 0s 2ms/step - loss: 3.2440 - mae: 1.3194\n",
      "Epoch 37/100\n",
      "114/114 [==============================] - 0s 2ms/step - loss: 3.2540 - mae: 1.3267\n",
      "Epoch 38/100\n",
      "114/114 [==============================] - 0s 2ms/step - loss: 3.2400 - mae: 1.3223\n",
      "Epoch 39/100\n",
      "114/114 [==============================] - 0s 2ms/step - loss: 3.2162 - mae: 1.3081\n",
      "Epoch 40/100\n",
      "114/114 [==============================] - 0s 2ms/step - loss: 3.2647 - mae: 1.3307\n",
      "Epoch 41/100\n",
      "114/114 [==============================] - 0s 2ms/step - loss: 3.3021 - mae: 1.3457\n",
      "Epoch 42/100\n",
      "114/114 [==============================] - 0s 2ms/step - loss: 3.2801 - mae: 1.3383\n",
      "Epoch 43/100\n",
      "114/114 [==============================] - 0s 2ms/step - loss: 3.2034 - mae: 1.3133\n",
      "Epoch 44/100\n",
      "114/114 [==============================] - 0s 2ms/step - loss: 3.2398 - mae: 1.3215\n",
      "Epoch 45/100\n",
      "114/114 [==============================] - 0s 2ms/step - loss: 3.1590 - mae: 1.2966\n",
      "Epoch 46/100\n",
      "114/114 [==============================] - 0s 2ms/step - loss: 3.2588 - mae: 1.3262\n",
      "Epoch 47/100\n",
      "114/114 [==============================] - 0s 2ms/step - loss: 3.1844 - mae: 1.2991\n",
      "Epoch 48/100\n",
      "114/114 [==============================] - 0s 2ms/step - loss: 3.2102 - mae: 1.3191\n",
      "Epoch 49/100\n",
      "114/114 [==============================] - 0s 2ms/step - loss: 3.1897 - mae: 1.3079\n",
      "Epoch 50/100\n",
      "114/114 [==============================] - 0s 2ms/step - loss: 3.2375 - mae: 1.3291\n",
      "Epoch 51/100\n",
      "114/114 [==============================] - 0s 2ms/step - loss: 3.3297 - mae: 1.3594\n",
      "Epoch 52/100\n",
      "114/114 [==============================] - 0s 2ms/step - loss: 3.1620 - mae: 1.2982\n",
      "Epoch 53/100\n",
      "114/114 [==============================] - 0s 2ms/step - loss: 3.1489 - mae: 1.2946\n",
      "Epoch 54/100\n",
      "114/114 [==============================] - 0s 2ms/step - loss: 3.1656 - mae: 1.3034\n",
      "Epoch 55/100\n",
      "114/114 [==============================] - 0s 2ms/step - loss: 3.1672 - mae: 1.3021\n",
      "Epoch 56/100\n",
      "114/114 [==============================] - 0s 2ms/step - loss: 3.2014 - mae: 1.3120\n",
      "Epoch 57/100\n",
      "114/114 [==============================] - 0s 2ms/step - loss: 3.1814 - mae: 1.3121\n",
      "Epoch 58/100\n",
      "114/114 [==============================] - 0s 2ms/step - loss: 3.2359 - mae: 1.3258\n",
      "Epoch 59/100\n",
      "114/114 [==============================] - 0s 2ms/step - loss: 3.2177 - mae: 1.3248\n",
      "Epoch 60/100\n",
      "114/114 [==============================] - 0s 2ms/step - loss: 3.2376 - mae: 1.3291\n",
      "Epoch 61/100\n",
      "114/114 [==============================] - 0s 2ms/step - loss: 3.2050 - mae: 1.3210\n",
      "Epoch 62/100\n",
      "114/114 [==============================] - 0s 2ms/step - loss: 3.2038 - mae: 1.3174\n",
      "Epoch 63/100\n",
      "114/114 [==============================] - 0s 2ms/step - loss: 3.1680 - mae: 1.3018\n",
      "Epoch 64/100\n",
      "114/114 [==============================] - 0s 2ms/step - loss: 3.1772 - mae: 1.3042\n",
      "Epoch 65/100\n",
      "114/114 [==============================] - 0s 2ms/step - loss: 3.1474 - mae: 1.2983\n",
      "Epoch 66/100\n",
      "114/114 [==============================] - 0s 2ms/step - loss: 3.1801 - mae: 1.3140\n",
      "Epoch 67/100\n",
      "114/114 [==============================] - 0s 2ms/step - loss: 3.1776 - mae: 1.3138\n",
      "Epoch 68/100\n",
      "114/114 [==============================] - 0s 2ms/step - loss: 3.1782 - mae: 1.3023\n",
      "Epoch 69/100\n",
      "114/114 [==============================] - 0s 2ms/step - loss: 3.1370 - mae: 1.2995\n",
      "Epoch 70/100\n",
      "114/114 [==============================] - 0s 2ms/step - loss: 3.1488 - mae: 1.2967\n",
      "Epoch 71/100\n",
      "114/114 [==============================] - 0s 2ms/step - loss: 3.1386 - mae: 1.2973\n",
      "Epoch 72/100\n",
      "114/114 [==============================] - 0s 2ms/step - loss: 3.1636 - mae: 1.3131\n",
      "Epoch 73/100\n",
      "114/114 [==============================] - 0s 2ms/step - loss: 3.1668 - mae: 1.3112\n",
      "Epoch 74/100\n",
      "114/114 [==============================] - 0s 2ms/step - loss: 3.1332 - mae: 1.3041\n",
      "Epoch 75/100\n",
      "114/114 [==============================] - 0s 2ms/step - loss: 3.1374 - mae: 1.3006\n",
      "Epoch 76/100\n",
      "114/114 [==============================] - 0s 2ms/step - loss: 3.1436 - mae: 1.3032\n",
      "Epoch 77/100\n",
      "114/114 [==============================] - 0s 2ms/step - loss: 3.1677 - mae: 1.3081\n",
      "Epoch 78/100\n",
      "114/114 [==============================] - 0s 2ms/step - loss: 3.1386 - mae: 1.2984\n",
      "Epoch 79/100\n",
      "114/114 [==============================] - 0s 2ms/step - loss: 3.1058 - mae: 1.2884\n",
      "Epoch 80/100\n",
      "114/114 [==============================] - 0s 2ms/step - loss: 3.1708 - mae: 1.3139\n",
      "Epoch 81/100\n",
      "114/114 [==============================] - 0s 2ms/step - loss: 3.1424 - mae: 1.3033\n",
      "Epoch 82/100\n",
      "114/114 [==============================] - 0s 2ms/step - loss: 3.1910 - mae: 1.3252\n",
      "Epoch 83/100\n",
      "114/114 [==============================] - 0s 2ms/step - loss: 3.1666 - mae: 1.3108\n",
      "Epoch 84/100\n",
      "114/114 [==============================] - 0s 2ms/step - loss: 3.1027 - mae: 1.2864\n",
      "Epoch 85/100\n"
     ]
    },
    {
     "name": "stdout",
     "output_type": "stream",
     "text": [
      "114/114 [==============================] - 0s 2ms/step - loss: 3.2493 - mae: 1.3445\n",
      "Epoch 86/100\n",
      "114/114 [==============================] - 0s 2ms/step - loss: 3.1125 - mae: 1.2899\n",
      "Epoch 87/100\n",
      "114/114 [==============================] - 0s 2ms/step - loss: 3.1387 - mae: 1.3052\n",
      "Epoch 88/100\n",
      "114/114 [==============================] - 0s 2ms/step - loss: 3.1693 - mae: 1.3120\n",
      "Epoch 89/100\n",
      "114/114 [==============================] - 0s 2ms/step - loss: 3.1154 - mae: 1.2963\n",
      "Epoch 90/100\n",
      "114/114 [==============================] - 0s 2ms/step - loss: 3.1032 - mae: 1.2925\n",
      "Epoch 91/100\n",
      "114/114 [==============================] - 0s 2ms/step - loss: 3.1308 - mae: 1.3022\n",
      "Epoch 92/100\n",
      "114/114 [==============================] - 0s 2ms/step - loss: 3.1721 - mae: 1.3150\n",
      "Epoch 93/100\n",
      "114/114 [==============================] - 0s 2ms/step - loss: 3.1182 - mae: 1.2956\n",
      "Epoch 94/100\n",
      "114/114 [==============================] - 0s 2ms/step - loss: 3.1186 - mae: 1.2993\n",
      "Epoch 95/100\n",
      "114/114 [==============================] - 0s 2ms/step - loss: 3.0852 - mae: 1.2869\n",
      "Epoch 96/100\n",
      "114/114 [==============================] - 0s 2ms/step - loss: 3.1304 - mae: 1.3027\n",
      "Epoch 97/100\n",
      "114/114 [==============================] - 0s 2ms/step - loss: 3.1584 - mae: 1.3179\n",
      "Epoch 98/100\n",
      "114/114 [==============================] - 0s 2ms/step - loss: 3.1557 - mae: 1.3140\n",
      "Epoch 99/100\n",
      "114/114 [==============================] - 0s 2ms/step - loss: 3.1117 - mae: 1.2967\n",
      "Epoch 100/100\n",
      "114/114 [==============================] - 0s 2ms/step - loss: 3.1189 - mae: 1.3002\n"
     ]
    }
   ],
   "source": [
    "w = m_lstm_adam.fit(X_train, y_train, epochs = 100)"
   ]
  },
  {
   "cell_type": "code",
   "execution_count": 1295,
   "id": "afbc6d0c",
   "metadata": {},
   "outputs": [],
   "source": [
    "m_lstm_adam.save('m_lstm_adam.h5')"
   ]
  },
  {
   "cell_type": "code",
   "execution_count": 1296,
   "id": "8aa3dbf6",
   "metadata": {},
   "outputs": [
    {
     "data": {
      "text/plain": [
       "<matplotlib.legend.Legend at 0x7f7666418040>"
      ]
     },
     "execution_count": 1296,
     "metadata": {},
     "output_type": "execute_result"
    },
    {
     "data": {
      "image/png": "[encoded data removed]",
      "text/plain": [
       "<Figure size 864x576 with 1 Axes>"
      ]
     },
     "metadata": {
      "needs_background": "light"
     },
     "output_type": "display_data"
    }
   ],
   "source": [
    "fig, axe = plt.subplots(figsize = (12,8))\n",
    "axe.plot(h.history['loss'], label = 'RMSprop')\n",
    "axe.plot(w.history['loss'], label = 'Adam')\n",
    "axe.legend()"
   ]
  },
  {
   "cell_type": "code",
   "execution_count": 1333,
   "id": "1e034f5b",
   "metadata": {},
   "outputs": [
    {
     "name": "stdout",
     "output_type": "stream",
     "text": [
      "            0\n",
      "0     1.88125\n",
      "1    -0.58750\n",
      "2    -1.09375\n",
      "3     0.63750\n",
      "4     1.57500\n",
      "..        ...\n",
      "217  29.40625\n",
      "218  29.28750\n",
      "219  29.08125\n",
      "220  26.48125\n",
      "221  23.74375\n",
      "\n",
      "[222 rows x 1 columns]\n"
     ]
    }
   ],
   "source": [
    "test = temp_real['평균기온(℃)']\n",
    "test = {0 : test}\n",
    "test = pd.DataFrame(test)\n",
    "print(test)"
   ]
  },
  {
   "cell_type": "code",
   "execution_count": 1334,
   "id": "3ffbb000",
   "metadata": {},
   "outputs": [],
   "source": [
    "df_test = np.array(train.iloc[-1, :].shift(1)).reshape(1,7)"
   ]
  },
  {
   "cell_type": "code",
   "execution_count": 1335,
   "id": "7542f332",
   "metadata": {},
   "outputs": [],
   "source": [
    "df_test = pd.DataFrame(df_test)"
   ]
  },
  {
   "cell_type": "code",
   "execution_count": 1336,
   "id": "5118f06d",
   "metadata": {},
   "outputs": [
    {
     "data": {
      "text/html": [
       "<div>\n",
       "<style scoped>\n",
       "    .dataframe tbody tr th:only-of-type {\n",
       "        vertical-align: middle;\n",
       "    }\n",
       "\n",
       "    .dataframe tbody tr th {\n",
       "        vertical-align: top;\n",
       "    }\n",
       "\n",
       "    .dataframe thead th {\n",
       "        text-align: right;\n",
       "    }\n",
       "</style>\n",
       "<table border=\"1\" class=\"dataframe\">\n",
       "  <thead>\n",
       "    <tr style=\"text-align: right;\">\n",
       "      <th></th>\n",
       "      <th>0</th>\n",
       "      <th>1</th>\n",
       "      <th>2</th>\n",
       "      <th>3</th>\n",
       "      <th>4</th>\n",
       "      <th>5</th>\n",
       "      <th>6</th>\n",
       "    </tr>\n",
       "  </thead>\n",
       "  <tbody>\n",
       "    <tr>\n",
       "      <th>0</th>\n",
       "      <td>NaN</td>\n",
       "      <td>1.05625</td>\n",
       "      <td>0.53125</td>\n",
       "      <td>-0.5125</td>\n",
       "      <td>0.1625</td>\n",
       "      <td>0.3125</td>\n",
       "      <td>-0.89375</td>\n",
       "    </tr>\n",
       "    <tr>\n",
       "      <th>1</th>\n",
       "      <td>1.88125</td>\n",
       "      <td>NaN</td>\n",
       "      <td>NaN</td>\n",
       "      <td>NaN</td>\n",
       "      <td>NaN</td>\n",
       "      <td>NaN</td>\n",
       "      <td>NaN</td>\n",
       "    </tr>\n",
       "    <tr>\n",
       "      <th>2</th>\n",
       "      <td>-0.58750</td>\n",
       "      <td>NaN</td>\n",
       "      <td>NaN</td>\n",
       "      <td>NaN</td>\n",
       "      <td>NaN</td>\n",
       "      <td>NaN</td>\n",
       "      <td>NaN</td>\n",
       "    </tr>\n",
       "    <tr>\n",
       "      <th>3</th>\n",
       "      <td>-1.09375</td>\n",
       "      <td>NaN</td>\n",
       "      <td>NaN</td>\n",
       "      <td>NaN</td>\n",
       "      <td>NaN</td>\n",
       "      <td>NaN</td>\n",
       "      <td>NaN</td>\n",
       "    </tr>\n",
       "    <tr>\n",
       "      <th>4</th>\n",
       "      <td>0.63750</td>\n",
       "      <td>NaN</td>\n",
       "      <td>NaN</td>\n",
       "      <td>NaN</td>\n",
       "      <td>NaN</td>\n",
       "      <td>NaN</td>\n",
       "      <td>NaN</td>\n",
       "    </tr>\n",
       "  </tbody>\n",
       "</table>\n",
       "</div>"
      ],
      "text/plain": [
       "         0        1        2       3       4       5        6\n",
       "0      NaN  1.05625  0.53125 -0.5125  0.1625  0.3125 -0.89375\n",
       "1  1.88125      NaN      NaN     NaN     NaN     NaN      NaN\n",
       "2 -0.58750      NaN      NaN     NaN     NaN     NaN      NaN\n",
       "3 -1.09375      NaN      NaN     NaN     NaN     NaN      NaN\n",
       "4  0.63750      NaN      NaN     NaN     NaN     NaN      NaN"
      ]
     },
     "execution_count": 1336,
     "metadata": {},
     "output_type": "execute_result"
    }
   ],
   "source": [
    "df = pd.concat((df_test, test), axis = 0)\n",
    "df = df.reset_index(drop = True)\n",
    "df.head()"
   ]
  },
  {
   "cell_type": "code",
   "execution_count": 1337,
   "id": "41e6b8ba",
   "metadata": {},
   "outputs": [],
   "source": [
    "def maketimeSeries(df, n_in = 6):\n",
    "    for i in range(1, n_in+1):\n",
    "        df[i] = df[i-1].shift(1)\n",
    "    return df"
   ]
  },
  {
   "cell_type": "code",
   "execution_count": 1338,
   "id": "cf6686fb",
   "metadata": {},
   "outputs": [],
   "source": [
    "def maketest(df):\n",
    "    for i in range(0, len(df) - 1):\n",
    "        df.iloc[i, 0] = df.iloc[i+1, 0]\n",
    "        df.iloc[i+1, :] = df.iloc[i].shift(1)\n",
    "    return df"
   ]
  },
  {
   "cell_type": "code",
   "execution_count": 1339,
   "id": "09a0a826",
   "metadata": {},
   "outputs": [],
   "source": [
    "test = maketest(df)"
   ]
  },
  {
   "cell_type": "code",
   "execution_count": 1340,
   "id": "216a73b8",
   "metadata": {},
   "outputs": [
    {
     "data": {
      "text/html": [
       "<div>\n",
       "<style scoped>\n",
       "    .dataframe tbody tr th:only-of-type {\n",
       "        vertical-align: middle;\n",
       "    }\n",
       "\n",
       "    .dataframe tbody tr th {\n",
       "        vertical-align: top;\n",
       "    }\n",
       "\n",
       "    .dataframe thead th {\n",
       "        text-align: right;\n",
       "    }\n",
       "</style>\n",
       "<table border=\"1\" class=\"dataframe\">\n",
       "  <thead>\n",
       "    <tr style=\"text-align: right;\">\n",
       "      <th></th>\n",
       "      <th>0</th>\n",
       "      <th>1</th>\n",
       "      <th>2</th>\n",
       "      <th>3</th>\n",
       "      <th>4</th>\n",
       "      <th>5</th>\n",
       "      <th>6</th>\n",
       "    </tr>\n",
       "  </thead>\n",
       "  <tbody>\n",
       "    <tr>\n",
       "      <th>0</th>\n",
       "      <td>1.88125</td>\n",
       "      <td>1.05625</td>\n",
       "      <td>0.53125</td>\n",
       "      <td>-0.51250</td>\n",
       "      <td>0.16250</td>\n",
       "      <td>0.31250</td>\n",
       "      <td>-0.89375</td>\n",
       "    </tr>\n",
       "    <tr>\n",
       "      <th>1</th>\n",
       "      <td>-0.58750</td>\n",
       "      <td>1.88125</td>\n",
       "      <td>1.05625</td>\n",
       "      <td>0.53125</td>\n",
       "      <td>-0.51250</td>\n",
       "      <td>0.16250</td>\n",
       "      <td>0.31250</td>\n",
       "    </tr>\n",
       "    <tr>\n",
       "      <th>2</th>\n",
       "      <td>-1.09375</td>\n",
       "      <td>-0.58750</td>\n",
       "      <td>1.88125</td>\n",
       "      <td>1.05625</td>\n",
       "      <td>0.53125</td>\n",
       "      <td>-0.51250</td>\n",
       "      <td>0.16250</td>\n",
       "    </tr>\n",
       "    <tr>\n",
       "      <th>3</th>\n",
       "      <td>0.63750</td>\n",
       "      <td>-1.09375</td>\n",
       "      <td>-0.58750</td>\n",
       "      <td>1.88125</td>\n",
       "      <td>1.05625</td>\n",
       "      <td>0.53125</td>\n",
       "      <td>-0.51250</td>\n",
       "    </tr>\n",
       "    <tr>\n",
       "      <th>4</th>\n",
       "      <td>1.57500</td>\n",
       "      <td>0.63750</td>\n",
       "      <td>-1.09375</td>\n",
       "      <td>-0.58750</td>\n",
       "      <td>1.88125</td>\n",
       "      <td>1.05625</td>\n",
       "      <td>0.53125</td>\n",
       "    </tr>\n",
       "    <tr>\n",
       "      <th>...</th>\n",
       "      <td>...</td>\n",
       "      <td>...</td>\n",
       "      <td>...</td>\n",
       "      <td>...</td>\n",
       "      <td>...</td>\n",
       "      <td>...</td>\n",
       "      <td>...</td>\n",
       "    </tr>\n",
       "    <tr>\n",
       "      <th>218</th>\n",
       "      <td>29.28750</td>\n",
       "      <td>29.40625</td>\n",
       "      <td>30.07500</td>\n",
       "      <td>30.02500</td>\n",
       "      <td>29.82500</td>\n",
       "      <td>29.41875</td>\n",
       "      <td>29.27500</td>\n",
       "    </tr>\n",
       "    <tr>\n",
       "      <th>219</th>\n",
       "      <td>29.08125</td>\n",
       "      <td>29.28750</td>\n",
       "      <td>29.40625</td>\n",
       "      <td>30.07500</td>\n",
       "      <td>30.02500</td>\n",
       "      <td>29.82500</td>\n",
       "      <td>29.41875</td>\n",
       "    </tr>\n",
       "    <tr>\n",
       "      <th>220</th>\n",
       "      <td>26.48125</td>\n",
       "      <td>29.08125</td>\n",
       "      <td>29.28750</td>\n",
       "      <td>29.40625</td>\n",
       "      <td>30.07500</td>\n",
       "      <td>30.02500</td>\n",
       "      <td>29.82500</td>\n",
       "    </tr>\n",
       "    <tr>\n",
       "      <th>221</th>\n",
       "      <td>23.74375</td>\n",
       "      <td>26.48125</td>\n",
       "      <td>29.08125</td>\n",
       "      <td>29.28750</td>\n",
       "      <td>29.40625</td>\n",
       "      <td>30.07500</td>\n",
       "      <td>30.02500</td>\n",
       "    </tr>\n",
       "    <tr>\n",
       "      <th>222</th>\n",
       "      <td>NaN</td>\n",
       "      <td>23.74375</td>\n",
       "      <td>26.48125</td>\n",
       "      <td>29.08125</td>\n",
       "      <td>29.28750</td>\n",
       "      <td>29.40625</td>\n",
       "      <td>30.07500</td>\n",
       "    </tr>\n",
       "  </tbody>\n",
       "</table>\n",
       "<p>223 rows × 7 columns</p>\n",
       "</div>"
      ],
      "text/plain": [
       "            0         1         2         3         4         5         6\n",
       "0     1.88125   1.05625   0.53125  -0.51250   0.16250   0.31250  -0.89375\n",
       "1    -0.58750   1.88125   1.05625   0.53125  -0.51250   0.16250   0.31250\n",
       "2    -1.09375  -0.58750   1.88125   1.05625   0.53125  -0.51250   0.16250\n",
       "3     0.63750  -1.09375  -0.58750   1.88125   1.05625   0.53125  -0.51250\n",
       "4     1.57500   0.63750  -1.09375  -0.58750   1.88125   1.05625   0.53125\n",
       "..        ...       ...       ...       ...       ...       ...       ...\n",
       "218  29.28750  29.40625  30.07500  30.02500  29.82500  29.41875  29.27500\n",
       "219  29.08125  29.28750  29.40625  30.07500  30.02500  29.82500  29.41875\n",
       "220  26.48125  29.08125  29.28750  29.40625  30.07500  30.02500  29.82500\n",
       "221  23.74375  26.48125  29.08125  29.28750  29.40625  30.07500  30.02500\n",
       "222       NaN  23.74375  26.48125  29.08125  29.28750  29.40625  30.07500\n",
       "\n",
       "[223 rows x 7 columns]"
      ]
     },
     "execution_count": 1340,
     "metadata": {},
     "output_type": "execute_result"
    }
   ],
   "source": [
    "test"
   ]
  },
  {
   "cell_type": "code",
   "execution_count": 1341,
   "id": "9bdb1c89",
   "metadata": {},
   "outputs": [],
   "source": [
    "X_test = test.iloc[:-1, 1:]\n",
    "y_test = test.iloc[:-1, 0]"
   ]
  },
  {
   "cell_type": "markdown",
   "id": "8126b485",
   "metadata": {},
   "source": [
    "X_test = np.array(X_test)\n",
    "X_test = X_test.reshape(X_test.shape[0], X_train.shape[1], 1)\n",
    "y_test = np.array(y_test)\n",
    "y_test = y_test.reshape(y_test.shape[0], 1)"
   ]
  },
  {
   "cell_type": "code",
   "execution_count": 1342,
   "id": "4c17186e",
   "metadata": {},
   "outputs": [],
   "source": [
    "m_lstm_RMS = tf.keras.models.load_model('m_lstm.h5')\n",
    "m_lstm_Adam = tf.keras.models.load_model('m_lstm_adam.h5')"
   ]
  },
  {
   "cell_type": "code",
   "execution_count": 1343,
   "id": "bf502737",
   "metadata": {},
   "outputs": [
    {
     "name": "stdout",
     "output_type": "stream",
     "text": [
      "114/114 [==============================] - 0s 811us/step - loss: 3.0559 - mae: 1.2491\n",
      "114/114 [==============================] - 0s 809us/step - loss: 3.0257 - mae: 1.2665\n"
     ]
    },
    {
     "data": {
      "text/plain": [
       "[3.0256593227386475, 1.2665188312530518]"
      ]
     },
     "execution_count": 1343,
     "metadata": {},
     "output_type": "execute_result"
    }
   ],
   "source": [
    "m_lstm_Adam.evaluate(X_train, y_train)\n",
    "m_lstm_RMS.evaluate(X_train, y_train)"
   ]
  },
  {
   "cell_type": "code",
   "execution_count": 1344,
   "id": "12f28aa5",
   "metadata": {},
   "outputs": [
    {
     "name": "stdout",
     "output_type": "stream",
     "text": [
      "7/7 [==============================] - 0s 1ms/step - loss: 3.5006 - mae: 1.3455\n",
      "7/7 [==============================] - 0s 1ms/step - loss: 3.2576 - mae: 1.3268\n"
     ]
    },
    {
     "data": {
      "text/plain": [
       "[3.2576019763946533, 1.3268487453460693]"
      ]
     },
     "execution_count": 1344,
     "metadata": {},
     "output_type": "execute_result"
    }
   ],
   "source": [
    "m_lstm_Adam.evaluate(X_test, y_test)\n",
    "m_lstm_RMS.evaluate(X_test, y_test)"
   ]
  },
  {
   "cell_type": "code",
   "execution_count": 1363,
   "id": "a8c7fc06",
   "metadata": {},
   "outputs": [
    {
     "name": "stdout",
     "output_type": "stream",
     "text": [
      "1/1 [==============================] - 0s 15ms/step\n"
     ]
    },
    {
     "data": {
      "text/plain": [
       "(1,)"
      ]
     },
     "execution_count": 1363,
     "metadata": {},
     "output_type": "execute_result"
    }
   ],
   "source": [
    "a = np.array(test.iloc[-1, 1:]).reshape(1,6)\n",
    "next_pred = m_lstm_RMS.predict(a).reshape(1)\n",
    "next_pred.shape"
   ]
  },
  {
   "cell_type": "code",
   "execution_count": 1359,
   "id": "ce241ab8",
   "metadata": {},
   "outputs": [
    {
     "name": "stdout",
     "output_type": "stream",
     "text": [
      "7/7 [==============================] - 0s 947us/step\n"
     ]
    },
    {
     "data": {
      "text/plain": [
       "(222,)"
      ]
     },
     "execution_count": 1359,
     "metadata": {},
     "output_type": "execute_result"
    }
   ],
   "source": [
    "pred = m_lstm_RMS.predict(X_test).reshape(222,)\n",
    "pred.shape"
   ]
  },
  {
   "cell_type": "code",
   "execution_count": 1377,
   "id": "ad9ba11c",
   "metadata": {},
   "outputs": [
    {
     "data": {
      "text/plain": [
       "Text(0.5, 1.0, 'test data : 대한민국 국내 기온 변화 (2023-01-01 ~ 2023-08-10)')"
      ]
     },
     "execution_count": 1377,
     "metadata": {},
     "output_type": "execute_result"
    },
    {
     "name": "stderr",
     "output_type": "stream",
     "text": [
      "/usr/lib/python3/dist-packages/IPython/core/events.py:89: UserWarning: Glyph 8722 (\\N{MINUS SIGN}) missing from current font.\n",
      "  func(*args, **kwargs)\n",
      "/usr/lib/python3/dist-packages/IPython/core/pylabtools.py:151: UserWarning: Glyph 8722 (\\N{MINUS SIGN}) missing from current font.\n",
      "  fig.canvas.print_figure(bytes_io, **kw)\n"
     ]
    },
    {
     "data": {
      "image/png": "[encoded data removed]",
      "text/plain": [
       "<Figure size 1080x648 with 1 Axes>"
      ]
     },
     "metadata": {
      "needs_background": "light"
     },
     "output_type": "display_data"
    }
   ],
   "source": [
    "fig, axe = plt.subplots(figsize = (15,9))\n",
    "window = 10\n",
    "sns.lineplot(x = temp_real['일시'], y = temp_real['평균기온(℃)'], label = 'real')\n",
    "sns.lineplot(x = temp_real['일시'], y = pred, label = 'predict')\n",
    "sns.scatterplot(x = temp_real['일시'].iloc[-1], y = next_pred, color = 'r', marker = 'o', label = '2023/08/10의 기온 예측점')\n",
    "axe.set_xticks(temp_real['일시'].dt.strftime('%Y-%m').iloc[window::10])\n",
    "axe.set_xticklabels(temp_real['일시'].dt.strftime('%Y-%m').iloc[window::10], rotation = -45, weight='bold')\n",
    "axe.set_title('test data : 대한민국 국내 기온 변화 (2023-01-01 ~ 2023-08-10)', fontsize = 20, weight='bold')"
   ]
  }
 ],
 "metadata": {
  "kernelspec": {
   "display_name": "Python 3 (ipykernel)",
   "language": "python",
   "name": "python3"
  },
  "language_info": {
   "codemirror_mode": {
    "name": "ipython",
    "version": 3
   },
   "file_extension": ".py",
   "mimetype": "text/x-python",
   "name": "python",
   "nbconvert_exporter": "python",
   "pygments_lexer": "ipython3",
   "version": "3.10.12"
  }
 },
 "nbformat": 4,
 "nbformat_minor": 5
}
